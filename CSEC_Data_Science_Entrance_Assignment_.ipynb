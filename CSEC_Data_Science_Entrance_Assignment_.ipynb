{
  "nbformat": 4,
  "nbformat_minor": 0,
  "metadata": {
    "colab": {
      "provenance": [],
      "authorship_tag": "ABX9TyMvCrmdDy5vTgxP4C95aZfo",
      "include_colab_link": true
    },
    "kernelspec": {
      "name": "python3",
      "display_name": "Python 3"
    },
    "language_info": {
      "name": "python"
    }
  },
  "cells": [
    {
      "cell_type": "markdown",
      "metadata": {
        "id": "view-in-github",
        "colab_type": "text"
      },
      "source": [
        "<a href=\"https://colab.research.google.com/github/lA12-coder/CSEC_CPD/blob/main/CSEC_Data_Science_Entrance_Assignment_.ipynb\" target=\"_parent\"><img src=\"https://colab.research.google.com/assets/colab-badge.svg\" alt=\"Open In Colab\"/></a>"
      ]
    },
    {
      "cell_type": "code",
      "execution_count": null,
      "metadata": {
        "id": "Uyb_Jjx8gLcJ"
      },
      "outputs": [],
      "source": []
    },
    {
      "cell_type": "markdown",
      "source": [
        "Question 1. What is the difference between a list, a dictionary, and a NumPy array? Give one example of each.\n",
        "Ans:\n",
        " **List** is an array of numbers, strings, characters or other data types. python list is dynamic by its nature and its elements can be modified.It can contain different data types.\n",
        " Example\n",
        "\n",
        "```python\n",
        "lst = [1, 6, \"apple\",(2,4,5),[2,3,4]]\n",
        "```\n",
        "\n",
        "\n",
        "**Dictionary** is a set of key and value pairs in which keys are unique. The values are accesed by the keys.\n",
        "\n",
        "Example:\n",
        "```python\n",
        "dict = {\"apple\":\"red\",\"mango\":\"yellow\",\"lemon\":\"green\"}\n",
        "```\n",
        "\n",
        "**NumPy array** A grid of values, all of the same type, used for numerical computations.\n",
        "\n",
        "Example:\n",
        "```python\n",
        "import numpy as np\n",
        "arr = np.array([1,2,3,4,5,6])\n",
        "```"
      ],
      "metadata": {
        "id": "Qlcqv_8igYIH"
      }
    },
    {
      "cell_type": "code",
      "source": [
        "#2. Given the list [10, 15, 20, 25, 30], write a function that returns the square of only even numbers.\n",
        "result = []\n",
        "def even_square(arr):\n",
        "  for i in range(len(arr)):\n",
        "    if arr[i]%2 == 0:   #checks if the number is even\n",
        "      result.append(arr[i]**2)\n",
        "  return result\n",
        "arr = [10, 15, 20, 25, 30]\n",
        "print(even_square(arr))"
      ],
      "metadata": {
        "colab": {
          "base_uri": "https://localhost:8080/"
        },
        "id": "VjWvGChEjrFx",
        "outputId": "01a15f4a-4305-4ed6-d1a6-620d5829f44e"
      },
      "execution_count": 1,
      "outputs": [
        {
          "output_type": "stream",
          "name": "stdout",
          "text": [
            "[100, 400, 900]\n"
          ]
        }
      ]
    },
    {
      "cell_type": "markdown",
      "source": [
        "3, What does the following code output, and why?\n",
        "<img src = \"https://lh5.googleusercontent.com/o1uhogDzn6CHNoWmCg92XYFTvEnOafqDh5gZZcrYKi486ZJwo3DEB8fktnu7Nd8XS9gA2JiYhH91JpmHaMoG0k5yfmOkVtKielFCPY9M6J_q7Q9VA6-4dNC9-V0RtkA4HBKGdeRwrTS1AVoUWXYAzThEPYZsNPmq1Vihj-i9cxmTExNymg=w873?key=gbuKm6YH5ypIxbV7fE5n2A\" alt = \"Python image\">\n",
        "\n",
        "Ans:\n",
        "\n",
        "output: [1,2,3,4}\n",
        "# reason: when we assaign the list x to y the address is also copied. so both x ans y have the same memory address.\n"
      ],
      "metadata": {
        "id": "h3GL6QUvlQeP"
      }
    },
    {
      "cell_type": "markdown",
      "source": [
        "4, What does .shape and .describe() tell you about a pandas DataFrame? Show using an example.\n",
        "\n",
        "Ans:\n",
        "\n",
        "**.shape**: Returns a tuple representing the dimensionality of the DataFrame or (number of rows, number of columns).\n",
        "Example:\n",
        "\n",
        "**.discribe()** : Provides a statistical summary of the DataFrame's numeric columns, including count, mean, standard deviation, min, max, and quartiles.\n",
        "Example:"
      ],
      "metadata": {
        "id": "R521hECXnNzu"
      }
    },
    {
      "cell_type": "code",
      "source": [
        "import pandas as pd\n",
        "data = {\n",
        "    'A': [1, 2, 3],\n",
        "    'B': [4, 5, 6],\n",
        "    'C': [7, 8, 9]\n",
        "}\n",
        "df = pd.DataFrame(data)\n",
        "\n",
        "# Using .shape\n",
        "print(df.shape)  # Output: (3, 3)\n",
        "#using .discribe()\n",
        "print(df.describe())"
      ],
      "metadata": {
        "colab": {
          "base_uri": "https://localhost:8080/"
        },
        "id": "zQkXNn7ToCeB",
        "outputId": "57c95199-0714-42d8-d26e-bab5f76021e8"
      },
      "execution_count": 5,
      "outputs": [
        {
          "output_type": "stream",
          "name": "stdout",
          "text": [
            "(3, 3)\n",
            "         A    B    C\n",
            "count  3.0  3.0  3.0\n",
            "mean   2.0  5.0  8.0\n",
            "std    1.0  1.0  1.0\n",
            "min    1.0  4.0  7.0\n",
            "25%    1.5  4.5  7.5\n",
            "50%    2.0  5.0  8.0\n",
            "75%    2.5  5.5  8.5\n",
            "max    3.0  6.0  9.0\n"
          ]
        }
      ]
    },
    {
      "cell_type": "code",
      "source": [
        "#5. Load this CSV: airtravel.csv\n",
        "#Print the first 5 rows\n",
        "#What do you notice about the data?\n",
        "\n",
        "import pandas as pd\n",
        "\n",
        "from google.colab import files\n",
        "uploaded = files.upload()\n",
        "\n",
        "file = pd.read_csv(\"airtravel.csv\", header=0)\n",
        "print(file.head())"
      ],
      "metadata": {
        "colab": {
          "base_uri": "https://localhost:8080/",
          "height": 183
        },
        "id": "FAI2ehQZoywG",
        "outputId": "49e30709-2c1c-4353-b72b-e4e5c7ae41db"
      },
      "execution_count": 8,
      "outputs": [
        {
          "output_type": "display_data",
          "data": {
            "text/plain": [
              "<IPython.core.display.HTML object>"
            ],
            "text/html": [
              "\n",
              "     <input type=\"file\" id=\"files-a0beff7e-afbb-4354-a8fe-3cafac8b0ade\" name=\"files[]\" multiple disabled\n",
              "        style=\"border:none\" />\n",
              "     <output id=\"result-a0beff7e-afbb-4354-a8fe-3cafac8b0ade\">\n",
              "      Upload widget is only available when the cell has been executed in the\n",
              "      current browser session. Please rerun this cell to enable.\n",
              "      </output>\n",
              "      <script>// Copyright 2017 Google LLC\n",
              "//\n",
              "// Licensed under the Apache License, Version 2.0 (the \"License\");\n",
              "// you may not use this file except in compliance with the License.\n",
              "// You may obtain a copy of the License at\n",
              "//\n",
              "//      http://www.apache.org/licenses/LICENSE-2.0\n",
              "//\n",
              "// Unless required by applicable law or agreed to in writing, software\n",
              "// distributed under the License is distributed on an \"AS IS\" BASIS,\n",
              "// WITHOUT WARRANTIES OR CONDITIONS OF ANY KIND, either express or implied.\n",
              "// See the License for the specific language governing permissions and\n",
              "// limitations under the License.\n",
              "\n",
              "/**\n",
              " * @fileoverview Helpers for google.colab Python module.\n",
              " */\n",
              "(function(scope) {\n",
              "function span(text, styleAttributes = {}) {\n",
              "  const element = document.createElement('span');\n",
              "  element.textContent = text;\n",
              "  for (const key of Object.keys(styleAttributes)) {\n",
              "    element.style[key] = styleAttributes[key];\n",
              "  }\n",
              "  return element;\n",
              "}\n",
              "\n",
              "// Max number of bytes which will be uploaded at a time.\n",
              "const MAX_PAYLOAD_SIZE = 100 * 1024;\n",
              "\n",
              "function _uploadFiles(inputId, outputId) {\n",
              "  const steps = uploadFilesStep(inputId, outputId);\n",
              "  const outputElement = document.getElementById(outputId);\n",
              "  // Cache steps on the outputElement to make it available for the next call\n",
              "  // to uploadFilesContinue from Python.\n",
              "  outputElement.steps = steps;\n",
              "\n",
              "  return _uploadFilesContinue(outputId);\n",
              "}\n",
              "\n",
              "// This is roughly an async generator (not supported in the browser yet),\n",
              "// where there are multiple asynchronous steps and the Python side is going\n",
              "// to poll for completion of each step.\n",
              "// This uses a Promise to block the python side on completion of each step,\n",
              "// then passes the result of the previous step as the input to the next step.\n",
              "function _uploadFilesContinue(outputId) {\n",
              "  const outputElement = document.getElementById(outputId);\n",
              "  const steps = outputElement.steps;\n",
              "\n",
              "  const next = steps.next(outputElement.lastPromiseValue);\n",
              "  return Promise.resolve(next.value.promise).then((value) => {\n",
              "    // Cache the last promise value to make it available to the next\n",
              "    // step of the generator.\n",
              "    outputElement.lastPromiseValue = value;\n",
              "    return next.value.response;\n",
              "  });\n",
              "}\n",
              "\n",
              "/**\n",
              " * Generator function which is called between each async step of the upload\n",
              " * process.\n",
              " * @param {string} inputId Element ID of the input file picker element.\n",
              " * @param {string} outputId Element ID of the output display.\n",
              " * @return {!Iterable<!Object>} Iterable of next steps.\n",
              " */\n",
              "function* uploadFilesStep(inputId, outputId) {\n",
              "  const inputElement = document.getElementById(inputId);\n",
              "  inputElement.disabled = false;\n",
              "\n",
              "  const outputElement = document.getElementById(outputId);\n",
              "  outputElement.innerHTML = '';\n",
              "\n",
              "  const pickedPromise = new Promise((resolve) => {\n",
              "    inputElement.addEventListener('change', (e) => {\n",
              "      resolve(e.target.files);\n",
              "    });\n",
              "  });\n",
              "\n",
              "  const cancel = document.createElement('button');\n",
              "  inputElement.parentElement.appendChild(cancel);\n",
              "  cancel.textContent = 'Cancel upload';\n",
              "  const cancelPromise = new Promise((resolve) => {\n",
              "    cancel.onclick = () => {\n",
              "      resolve(null);\n",
              "    };\n",
              "  });\n",
              "\n",
              "  // Wait for the user to pick the files.\n",
              "  const files = yield {\n",
              "    promise: Promise.race([pickedPromise, cancelPromise]),\n",
              "    response: {\n",
              "      action: 'starting',\n",
              "    }\n",
              "  };\n",
              "\n",
              "  cancel.remove();\n",
              "\n",
              "  // Disable the input element since further picks are not allowed.\n",
              "  inputElement.disabled = true;\n",
              "\n",
              "  if (!files) {\n",
              "    return {\n",
              "      response: {\n",
              "        action: 'complete',\n",
              "      }\n",
              "    };\n",
              "  }\n",
              "\n",
              "  for (const file of files) {\n",
              "    const li = document.createElement('li');\n",
              "    li.append(span(file.name, {fontWeight: 'bold'}));\n",
              "    li.append(span(\n",
              "        `(${file.type || 'n/a'}) - ${file.size} bytes, ` +\n",
              "        `last modified: ${\n",
              "            file.lastModifiedDate ? file.lastModifiedDate.toLocaleDateString() :\n",
              "                                    'n/a'} - `));\n",
              "    const percent = span('0% done');\n",
              "    li.appendChild(percent);\n",
              "\n",
              "    outputElement.appendChild(li);\n",
              "\n",
              "    const fileDataPromise = new Promise((resolve) => {\n",
              "      const reader = new FileReader();\n",
              "      reader.onload = (e) => {\n",
              "        resolve(e.target.result);\n",
              "      };\n",
              "      reader.readAsArrayBuffer(file);\n",
              "    });\n",
              "    // Wait for the data to be ready.\n",
              "    let fileData = yield {\n",
              "      promise: fileDataPromise,\n",
              "      response: {\n",
              "        action: 'continue',\n",
              "      }\n",
              "    };\n",
              "\n",
              "    // Use a chunked sending to avoid message size limits. See b/62115660.\n",
              "    let position = 0;\n",
              "    do {\n",
              "      const length = Math.min(fileData.byteLength - position, MAX_PAYLOAD_SIZE);\n",
              "      const chunk = new Uint8Array(fileData, position, length);\n",
              "      position += length;\n",
              "\n",
              "      const base64 = btoa(String.fromCharCode.apply(null, chunk));\n",
              "      yield {\n",
              "        response: {\n",
              "          action: 'append',\n",
              "          file: file.name,\n",
              "          data: base64,\n",
              "        },\n",
              "      };\n",
              "\n",
              "      let percentDone = fileData.byteLength === 0 ?\n",
              "          100 :\n",
              "          Math.round((position / fileData.byteLength) * 100);\n",
              "      percent.textContent = `${percentDone}% done`;\n",
              "\n",
              "    } while (position < fileData.byteLength);\n",
              "  }\n",
              "\n",
              "  // All done.\n",
              "  yield {\n",
              "    response: {\n",
              "      action: 'complete',\n",
              "    }\n",
              "  };\n",
              "}\n",
              "\n",
              "scope.google = scope.google || {};\n",
              "scope.google.colab = scope.google.colab || {};\n",
              "scope.google.colab._files = {\n",
              "  _uploadFiles,\n",
              "  _uploadFilesContinue,\n",
              "};\n",
              "})(self);\n",
              "</script> "
            ]
          },
          "metadata": {}
        },
        {
          "output_type": "stream",
          "name": "stdout",
          "text": [
            "Saving airtravel.csv to airtravel (1).csv\n",
            "  Month   \"1958\"   \"1959\"   \"1960\"\n",
            "0   JAN      340      360      417\n",
            "1   FEB      318      342      391\n",
            "2   MAR      362      406      419\n",
            "3   APR      348      396      461\n",
            "4   MAY      363      420      472\n"
          ]
        }
      ]
    },
    {
      "source": [
        "6."
      ],
      "cell_type": "code",
      "metadata": {
        "id": "zD2ukmB5ymWN"
      },
      "execution_count": 15,
      "outputs": []
    },
    {
      "cell_type": "markdown",
      "source": [
        "7.  What does the .groupby() function do in pandas? Show an example using dummy data.\n",
        "\n",
        "Ans:\n",
        "The .groupby() function in pandas is used to split the data into groups based on some criteria. It allows you to perform operations on each group independently, such as aggregating, transforming, or filtering data.\n",
        "\n",
        "Example:\n",
        "\n"
      ],
      "metadata": {
        "id": "BfVO0kqGzoD2"
      }
    },
    {
      "cell_type": "code",
      "source": [
        "import pandas as pd\n",
        "\n",
        "# Create a dummy\n",
        "data = {\n",
        "    'name': ['Lidet', 'Melaku', 'Lidet', 'Melaku', 'Lidet', 'Melaku'],\n",
        "    'money_hold': [10, 20, 30, 40, 50, 60]\n",
        "}\n",
        "\n",
        "df = pd.DataFrame(data)\n",
        "\n",
        "# Display the original DataFrame\n",
        "print(\"Original DataFrame:\")\n",
        "print(df)\n",
        "\n",
        "print(\"\\n\")\n",
        "# calculate the sum of money hold by\n",
        "print(\"Grouped Dataframe\")\n",
        "grouped = df.groupby('name')['money_hold'].sum().reset_index()\n",
        "print(grouped)"
      ],
      "metadata": {
        "colab": {
          "base_uri": "https://localhost:8080/"
        },
        "id": "eZKjIPKS0tey",
        "outputId": "752612e6-fb50-4b38-8803-289b97e2a677"
      },
      "execution_count": 18,
      "outputs": [
        {
          "output_type": "stream",
          "name": "stdout",
          "text": [
            "Original DataFrame:\n",
            "     name  money_hold\n",
            "0   Lidet          10\n",
            "1  Melaku          20\n",
            "2   Lidet          30\n",
            "3  Melaku          40\n",
            "4   Lidet          50\n",
            "5  Melaku          60\n",
            "\n",
            "\n",
            "Grouped Dataframe\n",
            "     name  money_hold\n",
            "0   Lidet          90\n",
            "1  Melaku         120\n"
          ]
        }
      ]
    },
    {
      "cell_type": "code",
      "source": [
        "#8. Load the Titanic dataset from seaborn and:\n",
        "\n",
        "  #Count how many missing values are in each column\n",
        "\n",
        "import seaborn as sns\n",
        "import pandas as pd\n",
        "titanic = sns.load_dataset('titanic')\n",
        "missing_values = titanic.isnull().sum()\n",
        "print(missing_values)"
      ],
      "metadata": {
        "colab": {
          "base_uri": "https://localhost:8080/"
        },
        "id": "8X1VsNEx2XX8",
        "outputId": "630d843c-f859-41b9-959f-9c8d7183c5e1"
      },
      "execution_count": 19,
      "outputs": [
        {
          "output_type": "stream",
          "name": "stdout",
          "text": [
            "survived         0\n",
            "pclass           0\n",
            "sex              0\n",
            "age            177\n",
            "sibsp            0\n",
            "parch            0\n",
            "fare             0\n",
            "embarked         2\n",
            "class            0\n",
            "who              0\n",
            "adult_male       0\n",
            "deck           688\n",
            "embark_town      2\n",
            "alive            0\n",
            "alone            0\n",
            "dtype: int64\n"
          ]
        }
      ]
    },
    {
      "cell_type": "code",
      "source": [
        "#9.\n",
        "\n",
        "import seaborn as sns\n",
        "import matplotlib.pyplot as plt\n",
        "\n",
        "titanic = sns.load_dataset('titanic')\n",
        "\n",
        "# Plot the age distribution\n",
        "plt.figure(figsize=(10, 6))\n",
        "titanic['age'].hist(bins=30, edgecolor='black')\n",
        "plt.title('Age Distribution of Titanic Passengers')\n",
        "plt.xlabel('Age')\n",
        "plt.ylabel('Frequency')\n",
        "plt.grid(False)\n",
        "plt.show()"
      ],
      "metadata": {
        "colab": {
          "base_uri": "https://localhost:8080/",
          "height": 564
        },
        "id": "iMdL1L7s3TvY",
        "outputId": "590cbca1-2d71-4500-f39e-e02fe775a0cf"
      },
      "execution_count": 20,
      "outputs": [
        {
          "output_type": "display_data",
          "data": {
            "text/plain": [
              "<Figure size 1000x600 with 1 Axes>"
            ],
            "image/png": "[encoded data removed]"
          },
          "metadata": {}
        }
      ]
    },
    {
      "cell_type": "markdown",
      "source": [
        "Reason for the skewness is because:\n",
        "\n",
        "1, The Titanic carried a significant number of children and young adults.\n",
        "\n",
        "2, Younger passengers might have had different survival chances compared to older passengers, potentially impacting the overall age distribution of those who survived."
      ],
      "metadata": {
        "id": "loK_-kBZ3tRt"
      }
    },
    {
      "cell_type": "markdown",
      "source": [
        "10.\n",
        "a, What does it mean if a column has a high standard deviation?\n",
        "\n",
        "b, Create a list or column that has a low and a high std. dev, and compare.  \n",
        "\n",
        "Ans:\n",
        "\n",
        "a. it indicates that the data points are spread out over a wider range of values, meaning there is a greater variability or dispersion in the dataset.\n",
        "\n",
        "b,\n",
        "\n",
        "```python\n",
        "'Low_Variance': [10, 12, 11, 10, 13, 11, 10, 12],\n",
        "'High_Variance': [1, 100, 50, 25, 75, 200, 5, 10]\n",
        "std_low = df['Low_Variance'].std() #output  1.118033988749895\n",
        "std_high = df['High_Variance'].std() #output  69.60515815845944\n",
        "```"
      ],
      "metadata": {
        "id": "ZgwStkQr4hlh"
      }
    },
    {
      "cell_type": "markdown",
      "source": [
        "11.What are some real-world problems where missing data might affect results? Give 2 examples.\n",
        "\n",
        "A.   Healthcare Studies\n",
        "\n",
        "In clinical trials or health studies, missing data can lead to biased results. For instance, if patients drop out of a study or do not complete questionnaires, the remaining data may not represent the entire population. This can affect conclusions about the effectiveness of a treatment or medication.\n",
        "\n",
        "B.   Financial Analysis\n",
        "\n",
        "In finance, missing data on stock prices or economic indicators can impact investment decisions and risk assessments.\n"
      ],
      "metadata": {
        "id": "mWdty4_t6Ksc"
      }
    }
  ]
}